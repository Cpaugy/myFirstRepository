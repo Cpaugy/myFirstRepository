{
 "cells": [
  {
   "cell_type": "markdown",
   "id": "e5e1750a",
   "metadata": {},
   "source": [
    "<h1>Data Science Tools and Ecosystem</h1>"
   ]
  },
  {
   "cell_type": "markdown",
   "id": "2b8d1651",
   "metadata": {},
   "source": [
    "<p>In this notebook, Data Science Tools and Ecosystem are summarized.</p>\n",
    "<b>Objectives:</b>\n",
    "<ul>\n",
    "  <li>Python</li>\n",
    "  <li> R</li>\n",
    "  <li>SQL</li>\n",
    "  <li>Scala</li>\n",
    "  <li>Java</li>\n",
    "   <li>C++</li>\n",
    "  <li>JuliaL</li>\n",
    "</ul>"
   ]
  },
  {
   "cell_type": "markdown",
   "id": "ca207beb",
   "metadata": {},
   "source": [
    "<br>Some of the popular languages that Data Scientists use are:</br>\n",
    "<ol>\n",
    "<li>Python</li>\n",
    "    <li>R</li>\n",
    "    <li>SQL</li>\n",
    "    <li>Scala</li>\n",
    "    <li>Java</li>\n",
    "    <li>C++</li>\n",
    "    <li>Java</li>\n",
    "</ol>"
   ]
  },
  {
   "cell_type": "markdown",
   "id": "510ebb32",
   "metadata": {},
   "source": [
    "<br>Some of the commonly used libraries used by Data Scientists include:</br>\n",
    "<ol>\n",
    "    <li>Pandas</li>\n",
    "    <li>NumPy</li>\n",
    "    <li>SciPy</li>\n",
    "    <li>Matplotlib</li>\n",
    "    <li>Seaborn</li>\n",
    "    <li>TensorFlow</li>\n",
    "</ol>"
   ]
  },
  {
   "cell_type": "markdown",
   "id": "d126af5d",
   "metadata": {},
   "source": [
    "<tr>\n",
    "<th>Data Science Tools</th>\n",
    "</tr>\n",
    "<tr>\n",
    "<td>jupyter Notebook</td>\n",
    "</tr>\n",
    "<tr>\n",
    "<td>RStudio</td>\n",
    "</tr>\n",
    "<tr>\n",
    "<td>Apache Zeppelin</td>\n",
    "</tr>"
   ]
  },
  {
   "cell_type": "markdown",
   "id": "a515e51e",
   "metadata": {},
   "source": [
    "<h3>Below are a few examples of evaluating arithmetic expressions in Python</h3>"
   ]
  },
  {
   "cell_type": "code",
   "execution_count": 10,
   "id": "e63b03ca",
   "metadata": {},
   "outputs": [
    {
     "data": {
      "text/plain": [
       "17"
      ]
     },
     "execution_count": 10,
     "metadata": {},
     "output_type": "execute_result"
    }
   ],
   "source": [
    "(3*4)+5\n",
    "#This a simple arithmetic expression to mutiply then add integers"
   ]
  },
  {
   "cell_type": "code",
   "execution_count": 11,
   "id": "75c17ec4",
   "metadata": {},
   "outputs": [
    {
     "name": "stdout",
     "output_type": "stream",
     "text": [
      "3h20mn\n"
     ]
    }
   ],
   "source": [
    "# Create time as a string\n",
    "time = \"{}{}{}{}\".format(200//60,'h', 200 % 60,'mn')\n",
    "print(time)\n",
    "#This will convert 200 minutes to hours by diving by 60."
   ]
  },
  {
   "cell_type": "markdown",
   "id": "abe170b0",
   "metadata": {},
   "source": [
    "## Author"
   ]
  },
  {
   "cell_type": "markdown",
   "id": "978dfe9f",
   "metadata": {},
   "source": [
    "<p>Claudy Paugy"
   ]
  },
  {
   "cell_type": "code",
   "execution_count": null,
   "id": "c91ddb12",
   "metadata": {},
   "outputs": [],
   "source": []
  }
 ],
 "metadata": {
  "kernelspec": {
   "display_name": "Python 3 (ipykernel)",
   "language": "python",
   "name": "python3"
  },
  "language_info": {
   "codemirror_mode": {
    "name": "ipython",
    "version": 3
   },
   "file_extension": ".py",
   "mimetype": "text/x-python",
   "name": "python",
   "nbconvert_exporter": "python",
   "pygments_lexer": "ipython3",
   "version": "3.10.11"
  }
 },
 "nbformat": 4,
 "nbformat_minor": 5
}
